{
  "nbformat": 4,
  "nbformat_minor": 0,
  "metadata": {
    "colab": {
      "provenance": []
    },
    "kernelspec": {
      "name": "python3",
      "display_name": "Python 3"
    },
    "language_info": {
      "name": "python"
    }
  },
  "cells": [
    {
      "cell_type": "markdown",
      "source": [
        "# Standard Scaler"
      ],
      "metadata": {
        "id": "20M9mWa39n2y"
      }
    },
    {
      "cell_type": "markdown",
      "source": [
        "## *   Feature scaling is important in machine learning as it balances the scale of different features in a dataset, helping to ensure that each feature has equal influence on the results. \n",
        "## *   Standardization is a common method of feature scaling that transforms the values to have zero mean and unit variance. This helps algorithms that assume normally distributed data to perform well.\n",
        "\n"
      ],
      "metadata": {
        "id": "n0r97Lz-ASkU"
      }
    },
    {
      "cell_type": "markdown",
      "source": [
        "## StandardScaler is typically used when the features in a dataset have different scales, meaning that some features have much larger values than others. In such cases, using StandardScaler can help to normalize the features and bring them to a common scale, which can help improve the performance of many machine learning algorithms."
      ],
      "metadata": {
        "id": "UL0TRdbG9iWk"
      }
    },
    {
      "cell_type": "code",
      "execution_count": 1,
      "metadata": {
        "id": "gnpjjDVBu2P7"
      },
      "outputs": [],
      "source": [
        "import numpy as np\n",
        "import pandas as pd\n",
        "import matplotlib.pyplot as plt\n",
        "import seaborn as sns "
      ]
    },
    {
      "cell_type": "code",
      "source": [
        "df = pd.read_csv('/content/Social_Network_Ads.csv')"
      ],
      "metadata": {
        "id": "oF0bVMTwwgus"
      },
      "execution_count": 7,
      "outputs": []
    },
    {
      "cell_type": "markdown",
      "source": [
        "## iloc\n",
        "### It works by specifying the row and column numbers to access specific data elements in a DataFrame. It operates exclusively on integer-based indexing and not on label-based indexing, unlike loc.You can also use slicing to access a range of rows and/or columns. "
      ],
      "metadata": {
        "id": "0mWyS69gxVNa"
      }
    },
    {
      "cell_type": "code",
      "source": [
        "df = df.iloc[:,2:]"
      ],
      "metadata": {
        "id": "XH1-opLJwmvV"
      },
      "execution_count": 10,
      "outputs": []
    },
    {
      "cell_type": "code",
      "source": [
        "df.sample(5)"
      ],
      "metadata": {
        "colab": {
          "base_uri": "https://localhost:8080/",
          "height": 206
        },
        "id": "IdT3m28UwrrL",
        "outputId": "a6a74d69-0177-47b3-8208-dc74bc0315d8"
      },
      "execution_count": 11,
      "outputs": [
        {
          "output_type": "execute_result",
          "data": {
            "text/plain": [
              "     Age  EstimatedSalary  Purchased\n",
              "295   36            63000          0\n",
              "334   57            60000          1\n",
              "293   37            77000          0\n",
              "306   51           134000          0\n",
              "303   37            79000          1"
            ],
            "text/html": [
              "\n",
              "  <div id=\"df-79799a32-bc46-4992-91a2-4ef372310e62\">\n",
              "    <div class=\"colab-df-container\">\n",
              "      <div>\n",
              "<style scoped>\n",
              "    .dataframe tbody tr th:only-of-type {\n",
              "        vertical-align: middle;\n",
              "    }\n",
              "\n",
              "    .dataframe tbody tr th {\n",
              "        vertical-align: top;\n",
              "    }\n",
              "\n",
              "    .dataframe thead th {\n",
              "        text-align: right;\n",
              "    }\n",
              "</style>\n",
              "<table border=\"1\" class=\"dataframe\">\n",
              "  <thead>\n",
              "    <tr style=\"text-align: right;\">\n",
              "      <th></th>\n",
              "      <th>Age</th>\n",
              "      <th>EstimatedSalary</th>\n",
              "      <th>Purchased</th>\n",
              "    </tr>\n",
              "  </thead>\n",
              "  <tbody>\n",
              "    <tr>\n",
              "      <th>295</th>\n",
              "      <td>36</td>\n",
              "      <td>63000</td>\n",
              "      <td>0</td>\n",
              "    </tr>\n",
              "    <tr>\n",
              "      <th>334</th>\n",
              "      <td>57</td>\n",
              "      <td>60000</td>\n",
              "      <td>1</td>\n",
              "    </tr>\n",
              "    <tr>\n",
              "      <th>293</th>\n",
              "      <td>37</td>\n",
              "      <td>77000</td>\n",
              "      <td>0</td>\n",
              "    </tr>\n",
              "    <tr>\n",
              "      <th>306</th>\n",
              "      <td>51</td>\n",
              "      <td>134000</td>\n",
              "      <td>0</td>\n",
              "    </tr>\n",
              "    <tr>\n",
              "      <th>303</th>\n",
              "      <td>37</td>\n",
              "      <td>79000</td>\n",
              "      <td>1</td>\n",
              "    </tr>\n",
              "  </tbody>\n",
              "</table>\n",
              "</div>\n",
              "      <button class=\"colab-df-convert\" onclick=\"convertToInteractive('df-79799a32-bc46-4992-91a2-4ef372310e62')\"\n",
              "              title=\"Convert this dataframe to an interactive table.\"\n",
              "              style=\"display:none;\">\n",
              "        \n",
              "  <svg xmlns=\"http://www.w3.org/2000/svg\" height=\"24px\"viewBox=\"0 0 24 24\"\n",
              "       width=\"24px\">\n",
              "    <path d=\"M0 0h24v24H0V0z\" fill=\"none\"/>\n",
              "    <path d=\"M18.56 5.44l.94 2.06.94-2.06 2.06-.94-2.06-.94-.94-2.06-.94 2.06-2.06.94zm-11 1L8.5 8.5l.94-2.06 2.06-.94-2.06-.94L8.5 2.5l-.94 2.06-2.06.94zm10 10l.94 2.06.94-2.06 2.06-.94-2.06-.94-.94-2.06-.94 2.06-2.06.94z\"/><path d=\"M17.41 7.96l-1.37-1.37c-.4-.4-.92-.59-1.43-.59-.52 0-1.04.2-1.43.59L10.3 9.45l-7.72 7.72c-.78.78-.78 2.05 0 2.83L4 21.41c.39.39.9.59 1.41.59.51 0 1.02-.2 1.41-.59l7.78-7.78 2.81-2.81c.8-.78.8-2.07 0-2.86zM5.41 20L4 18.59l7.72-7.72 1.47 1.35L5.41 20z\"/>\n",
              "  </svg>\n",
              "      </button>\n",
              "      \n",
              "  <style>\n",
              "    .colab-df-container {\n",
              "      display:flex;\n",
              "      flex-wrap:wrap;\n",
              "      gap: 12px;\n",
              "    }\n",
              "\n",
              "    .colab-df-convert {\n",
              "      background-color: #E8F0FE;\n",
              "      border: none;\n",
              "      border-radius: 50%;\n",
              "      cursor: pointer;\n",
              "      display: none;\n",
              "      fill: #1967D2;\n",
              "      height: 32px;\n",
              "      padding: 0 0 0 0;\n",
              "      width: 32px;\n",
              "    }\n",
              "\n",
              "    .colab-df-convert:hover {\n",
              "      background-color: #E2EBFA;\n",
              "      box-shadow: 0px 1px 2px rgba(60, 64, 67, 0.3), 0px 1px 3px 1px rgba(60, 64, 67, 0.15);\n",
              "      fill: #174EA6;\n",
              "    }\n",
              "\n",
              "    [theme=dark] .colab-df-convert {\n",
              "      background-color: #3B4455;\n",
              "      fill: #D2E3FC;\n",
              "    }\n",
              "\n",
              "    [theme=dark] .colab-df-convert:hover {\n",
              "      background-color: #434B5C;\n",
              "      box-shadow: 0px 1px 3px 1px rgba(0, 0, 0, 0.15);\n",
              "      filter: drop-shadow(0px 1px 2px rgba(0, 0, 0, 0.3));\n",
              "      fill: #FFFFFF;\n",
              "    }\n",
              "  </style>\n",
              "\n",
              "      <script>\n",
              "        const buttonEl =\n",
              "          document.querySelector('#df-79799a32-bc46-4992-91a2-4ef372310e62 button.colab-df-convert');\n",
              "        buttonEl.style.display =\n",
              "          google.colab.kernel.accessAllowed ? 'block' : 'none';\n",
              "\n",
              "        async function convertToInteractive(key) {\n",
              "          const element = document.querySelector('#df-79799a32-bc46-4992-91a2-4ef372310e62');\n",
              "          const dataTable =\n",
              "            await google.colab.kernel.invokeFunction('convertToInteractive',\n",
              "                                                     [key], {});\n",
              "          if (!dataTable) return;\n",
              "\n",
              "          const docLinkHtml = 'Like what you see? Visit the ' +\n",
              "            '<a target=\"_blank\" href=https://colab.research.google.com/notebooks/data_table.ipynb>data table notebook</a>'\n",
              "            + ' to learn more about interactive tables.';\n",
              "          element.innerHTML = '';\n",
              "          dataTable['output_type'] = 'display_data';\n",
              "          await google.colab.output.renderOutput(dataTable, element);\n",
              "          const docLink = document.createElement('div');\n",
              "          docLink.innerHTML = docLinkHtml;\n",
              "          element.appendChild(docLink);\n",
              "        }\n",
              "      </script>\n",
              "    </div>\n",
              "  </div>\n",
              "  "
            ]
          },
          "metadata": {},
          "execution_count": 11
        }
      ]
    },
    {
      "cell_type": "markdown",
      "source": [
        "## Train test split"
      ],
      "metadata": {
        "id": "kzOtjmEzxhFv"
      }
    },
    {
      "cell_type": "code",
      "source": [
        "from sklearn.model_selection import train_test_split\n",
        "X_train, X_test, y_train, y_test = train_test_split(df.drop('Purchased',axis=1),\n",
        "                                                    df['Purchased'],test_size=0.3,\n",
        "                                                    random_state=0)\n",
        "X_train.shape,X_test.shape"
      ],
      "metadata": {
        "colab": {
          "base_uri": "https://localhost:8080/"
        },
        "id": "qpSBCgUrwtsf",
        "outputId": "081768a2-f696-4f85-b254-5adc8fce7532"
      },
      "execution_count": 12,
      "outputs": [
        {
          "output_type": "execute_result",
          "data": {
            "text/plain": [
              "((280, 2), (120, 2))"
            ]
          },
          "metadata": {},
          "execution_count": 12
        }
      ]
    },
    {
      "cell_type": "markdown",
      "source": [
        "## StandardScaler\n",
        "### It is a pre-processing function in the scikit-learn library that is used to standardize the features of a dataset. It is used to transform the features by subtracting the mean and dividing by the standard deviation, so that the transformed features have a mean of 0 and a standard deviation of 1. This is a common pre-processing step in machine learning, as many algorithms assume that the features have zero mean and unit variance.\n",
        "\n",
        "\n",
        "## Note\n",
        "### Note that it's important to use the same StandardScaler to transform both the training and testing data, in order to ensure that the features have the same mean and standard deviation in both sets. To do this, you can fit the StandardScaler on the training data and then use the same scaler to transform the testing data."
      ],
      "metadata": {
        "id": "KPYcFYKgya4p"
      }
    },
    {
      "cell_type": "code",
      "source": [
        "from sklearn.preprocessing import StandardScaler\n",
        "scaler = StandardScaler()\n",
        "# It will learn the parameter\n",
        "# Learning on the basis of train data\n",
        "scaler.fit(X_train)\n",
        "# Transforming both the data\n",
        "X_train_scaled = scaler.transform(X_train)\n",
        "X_test_scaled = scaler.transform(X_test)"
      ],
      "metadata": {
        "id": "c-ybfDcAyOJm"
      },
      "execution_count": 13,
      "outputs": []
    },
    {
      "cell_type": "code",
      "source": [
        "X_train"
      ],
      "metadata": {
        "colab": {
          "base_uri": "https://localhost:8080/",
          "height": 424
        },
        "id": "z7qth9jOz9Nr",
        "outputId": "ed588acd-0416-44a7-b949-5739f6db3149"
      },
      "execution_count": 14,
      "outputs": [
        {
          "output_type": "execute_result",
          "data": {
            "text/plain": [
              "     Age  EstimatedSalary\n",
              "92    26            15000\n",
              "223   60           102000\n",
              "234   38           112000\n",
              "232   40           107000\n",
              "377   42            53000\n",
              "..   ...              ...\n",
              "323   48            30000\n",
              "192   29            43000\n",
              "117   36            52000\n",
              "47    27            54000\n",
              "172   26           118000\n",
              "\n",
              "[280 rows x 2 columns]"
            ],
            "text/html": [
              "\n",
              "  <div id=\"df-7ee1def3-0953-4d96-85ca-55f2a4f3f9f7\">\n",
              "    <div class=\"colab-df-container\">\n",
              "      <div>\n",
              "<style scoped>\n",
              "    .dataframe tbody tr th:only-of-type {\n",
              "        vertical-align: middle;\n",
              "    }\n",
              "\n",
              "    .dataframe tbody tr th {\n",
              "        vertical-align: top;\n",
              "    }\n",
              "\n",
              "    .dataframe thead th {\n",
              "        text-align: right;\n",
              "    }\n",
              "</style>\n",
              "<table border=\"1\" class=\"dataframe\">\n",
              "  <thead>\n",
              "    <tr style=\"text-align: right;\">\n",
              "      <th></th>\n",
              "      <th>Age</th>\n",
              "      <th>EstimatedSalary</th>\n",
              "    </tr>\n",
              "  </thead>\n",
              "  <tbody>\n",
              "    <tr>\n",
              "      <th>92</th>\n",
              "      <td>26</td>\n",
              "      <td>15000</td>\n",
              "    </tr>\n",
              "    <tr>\n",
              "      <th>223</th>\n",
              "      <td>60</td>\n",
              "      <td>102000</td>\n",
              "    </tr>\n",
              "    <tr>\n",
              "      <th>234</th>\n",
              "      <td>38</td>\n",
              "      <td>112000</td>\n",
              "    </tr>\n",
              "    <tr>\n",
              "      <th>232</th>\n",
              "      <td>40</td>\n",
              "      <td>107000</td>\n",
              "    </tr>\n",
              "    <tr>\n",
              "      <th>377</th>\n",
              "      <td>42</td>\n",
              "      <td>53000</td>\n",
              "    </tr>\n",
              "    <tr>\n",
              "      <th>...</th>\n",
              "      <td>...</td>\n",
              "      <td>...</td>\n",
              "    </tr>\n",
              "    <tr>\n",
              "      <th>323</th>\n",
              "      <td>48</td>\n",
              "      <td>30000</td>\n",
              "    </tr>\n",
              "    <tr>\n",
              "      <th>192</th>\n",
              "      <td>29</td>\n",
              "      <td>43000</td>\n",
              "    </tr>\n",
              "    <tr>\n",
              "      <th>117</th>\n",
              "      <td>36</td>\n",
              "      <td>52000</td>\n",
              "    </tr>\n",
              "    <tr>\n",
              "      <th>47</th>\n",
              "      <td>27</td>\n",
              "      <td>54000</td>\n",
              "    </tr>\n",
              "    <tr>\n",
              "      <th>172</th>\n",
              "      <td>26</td>\n",
              "      <td>118000</td>\n",
              "    </tr>\n",
              "  </tbody>\n",
              "</table>\n",
              "<p>280 rows × 2 columns</p>\n",
              "</div>\n",
              "      <button class=\"colab-df-convert\" onclick=\"convertToInteractive('df-7ee1def3-0953-4d96-85ca-55f2a4f3f9f7')\"\n",
              "              title=\"Convert this dataframe to an interactive table.\"\n",
              "              style=\"display:none;\">\n",
              "        \n",
              "  <svg xmlns=\"http://www.w3.org/2000/svg\" height=\"24px\"viewBox=\"0 0 24 24\"\n",
              "       width=\"24px\">\n",
              "    <path d=\"M0 0h24v24H0V0z\" fill=\"none\"/>\n",
              "    <path d=\"M18.56 5.44l.94 2.06.94-2.06 2.06-.94-2.06-.94-.94-2.06-.94 2.06-2.06.94zm-11 1L8.5 8.5l.94-2.06 2.06-.94-2.06-.94L8.5 2.5l-.94 2.06-2.06.94zm10 10l.94 2.06.94-2.06 2.06-.94-2.06-.94-.94-2.06-.94 2.06-2.06.94z\"/><path d=\"M17.41 7.96l-1.37-1.37c-.4-.4-.92-.59-1.43-.59-.52 0-1.04.2-1.43.59L10.3 9.45l-7.72 7.72c-.78.78-.78 2.05 0 2.83L4 21.41c.39.39.9.59 1.41.59.51 0 1.02-.2 1.41-.59l7.78-7.78 2.81-2.81c.8-.78.8-2.07 0-2.86zM5.41 20L4 18.59l7.72-7.72 1.47 1.35L5.41 20z\"/>\n",
              "  </svg>\n",
              "      </button>\n",
              "      \n",
              "  <style>\n",
              "    .colab-df-container {\n",
              "      display:flex;\n",
              "      flex-wrap:wrap;\n",
              "      gap: 12px;\n",
              "    }\n",
              "\n",
              "    .colab-df-convert {\n",
              "      background-color: #E8F0FE;\n",
              "      border: none;\n",
              "      border-radius: 50%;\n",
              "      cursor: pointer;\n",
              "      display: none;\n",
              "      fill: #1967D2;\n",
              "      height: 32px;\n",
              "      padding: 0 0 0 0;\n",
              "      width: 32px;\n",
              "    }\n",
              "\n",
              "    .colab-df-convert:hover {\n",
              "      background-color: #E2EBFA;\n",
              "      box-shadow: 0px 1px 2px rgba(60, 64, 67, 0.3), 0px 1px 3px 1px rgba(60, 64, 67, 0.15);\n",
              "      fill: #174EA6;\n",
              "    }\n",
              "\n",
              "    [theme=dark] .colab-df-convert {\n",
              "      background-color: #3B4455;\n",
              "      fill: #D2E3FC;\n",
              "    }\n",
              "\n",
              "    [theme=dark] .colab-df-convert:hover {\n",
              "      background-color: #434B5C;\n",
              "      box-shadow: 0px 1px 3px 1px rgba(0, 0, 0, 0.15);\n",
              "      filter: drop-shadow(0px 1px 2px rgba(0, 0, 0, 0.3));\n",
              "      fill: #FFFFFF;\n",
              "    }\n",
              "  </style>\n",
              "\n",
              "      <script>\n",
              "        const buttonEl =\n",
              "          document.querySelector('#df-7ee1def3-0953-4d96-85ca-55f2a4f3f9f7 button.colab-df-convert');\n",
              "        buttonEl.style.display =\n",
              "          google.colab.kernel.accessAllowed ? 'block' : 'none';\n",
              "\n",
              "        async function convertToInteractive(key) {\n",
              "          const element = document.querySelector('#df-7ee1def3-0953-4d96-85ca-55f2a4f3f9f7');\n",
              "          const dataTable =\n",
              "            await google.colab.kernel.invokeFunction('convertToInteractive',\n",
              "                                                     [key], {});\n",
              "          if (!dataTable) return;\n",
              "\n",
              "          const docLinkHtml = 'Like what you see? Visit the ' +\n",
              "            '<a target=\"_blank\" href=https://colab.research.google.com/notebooks/data_table.ipynb>data table notebook</a>'\n",
              "            + ' to learn more about interactive tables.';\n",
              "          element.innerHTML = '';\n",
              "          dataTable['output_type'] = 'display_data';\n",
              "          await google.colab.output.renderOutput(dataTable, element);\n",
              "          const docLink = document.createElement('div');\n",
              "          docLink.innerHTML = docLinkHtml;\n",
              "          element.appendChild(docLink);\n",
              "        }\n",
              "      </script>\n",
              "    </div>\n",
              "  </div>\n",
              "  "
            ]
          },
          "metadata": {},
          "execution_count": 14
        }
      ]
    },
    {
      "cell_type": "code",
      "source": [
        "X_train_scaled"
      ],
      "metadata": {
        "colab": {
          "base_uri": "https://localhost:8080/"
        },
        "id": "fVi64xHU0T3P",
        "outputId": "6a21836f-1f81-4f3d-ab45-006184a48796"
      },
      "execution_count": 15,
      "outputs": [
        {
          "output_type": "execute_result",
          "data": {
            "text/plain": [
              "array([[-1.1631724 , -1.5849703 ],\n",
              "       [ 2.17018137,  0.93098672],\n",
              "       [ 0.0133054 ,  1.22017719],\n",
              "       [ 0.20938504,  1.07558195],\n",
              "       [ 0.40546467, -0.48604654],\n",
              "       [-0.28081405, -0.31253226],\n",
              "       [ 0.99370357, -0.8330751 ],\n",
              "       [ 0.99370357,  1.8563962 ],\n",
              "       [ 0.0133054 ,  1.24909623],\n",
              "       [-0.86905295,  2.26126285],\n",
              "       [-1.1631724 , -1.5849703 ],\n",
              "       [ 2.17018137, -0.80415605],\n",
              "       [-1.35925203, -1.46929411],\n",
              "       [ 0.40546467,  2.2901819 ],\n",
              "       [ 0.79762394,  0.75747245],\n",
              "       [-0.96709276, -0.31253226],\n",
              "       [ 0.11134522,  0.75747245],\n",
              "       [-0.96709276,  0.55503912],\n",
              "       [ 0.30742485,  0.06341534],\n",
              "       [ 0.69958412, -1.26686079],\n",
              "       [-0.47689368, -0.0233418 ],\n",
              "       [-1.7514113 ,  0.3526058 ],\n",
              "       [-0.67297331,  0.12125343],\n",
              "       [ 0.40546467,  0.29476771],\n",
              "       [-0.28081405,  0.06341534],\n",
              "       [-0.47689368,  2.2901819 ],\n",
              "       [ 0.20938504,  0.03449629],\n",
              "       [ 1.28782302,  2.20342476],\n",
              "       [ 0.79762394,  0.26584866],\n",
              "       [-0.28081405,  0.15017248],\n",
              "       [ 0.0133054 , -0.54388463],\n",
              "       [-0.18277423,  0.15017248],\n",
              "       [-0.08473441,  0.23692961],\n",
              "       [ 0.0133054 , -0.25469417],\n",
              "       [ 2.17018137,  1.104501  ],\n",
              "       [-1.7514113 ,  0.3526058 ],\n",
              "       [ 1.87606192,  0.12125343],\n",
              "       [ 0.40546467, -0.13901799],\n",
              "       [-1.1631724 ,  0.29476771],\n",
              "       [ 0.79762394,  1.36477242],\n",
              "       [-0.28081405, -0.25469417],\n",
              "       [-1.65337148, -0.05226085],\n",
              "       [-0.96709276, -0.74631796],\n",
              "       [ 0.30742485,  0.49720103],\n",
              "       [-0.08473441, -1.06442747],\n",
              "       [-1.06513258,  0.58395817],\n",
              "       [ 0.11134522, -0.80415605],\n",
              "       [-0.96709276,  1.53828669],\n",
              "       [-0.67297331,  1.39369146],\n",
              "       [-1.26121221,  0.49720103],\n",
              "       [-0.28081405,  0.03449629],\n",
              "       [-0.08473441,  0.00557724],\n",
              "       [-0.28081405, -0.89091319],\n",
              "       [ 0.89566375, -1.35361793],\n",
              "       [-0.28081405,  2.2323438 ],\n",
              "       [ 0.99370357,  1.97207239],\n",
              "       [-1.1631724 ,  0.46828198],\n",
              "       [-1.26121221,  0.26584866],\n",
              "       [ 1.38586284,  1.97207239],\n",
              "       [ 1.28782302, -1.35361793],\n",
              "       [-0.28081405, -0.28361322],\n",
              "       [-0.47689368,  1.24909623],\n",
              "       [-0.77101313,  1.07558195],\n",
              "       [ 0.99370357, -1.06442747],\n",
              "       [ 0.30742485,  0.29476771],\n",
              "       [ 0.99370357,  0.75747245],\n",
              "       [-0.67297331, -1.49821316],\n",
              "       [-0.67297331,  0.03449629],\n",
              "       [ 0.50350449,  1.71180097],\n",
              "       [ 2.07214155,  0.17909152],\n",
              "       [-1.94749093, -0.74631796],\n",
              "       [-0.18277423,  1.39369146],\n",
              "       [ 0.40546467,  0.58395817],\n",
              "       [ 0.89566375, -1.1511846 ],\n",
              "       [-1.1631724 , -0.775237  ],\n",
              "       [ 0.20938504,  0.23692961],\n",
              "       [ 0.79762394, -0.31253226],\n",
              "       [ 2.07214155, -0.80415605],\n",
              "       [ 0.79762394,  0.12125343],\n",
              "       [-0.28081405,  0.61287722],\n",
              "       [-0.96709276, -0.31253226],\n",
              "       [ 0.20938504, -0.37037036],\n",
              "       [ 2.07214155,  2.11666762],\n",
              "       [ 1.87606192, -1.26686079],\n",
              "       [ 1.38586284, -0.91983223],\n",
              "       [ 0.89566375,  1.24909623],\n",
              "       [ 1.48390265,  2.11666762],\n",
              "       [-0.28081405, -1.23794174],\n",
              "       [ 1.97410174,  0.90206768],\n",
              "       [ 0.69958412, -0.71739891],\n",
              "       [-1.45729185,  0.3526058 ],\n",
              "       [ 0.79762394, -1.35361793],\n",
              "       [ 0.40546467, -0.13901799],\n",
              "       [-0.96709276,  0.41044389],\n",
              "       [ 0.0133054 , -0.31253226],\n",
              "       [-1.1631724 ,  0.41044389],\n",
              "       [-0.86905295, -1.2090227 ],\n",
              "       [-0.08473441,  0.03449629],\n",
              "       [-1.55533166, -0.42820845],\n",
              "       [ 0.99370357, -1.00658937],\n",
              "       [ 1.09174339, -1.2090227 ],\n",
              "       [ 0.0133054 , -0.13901799],\n",
              "       [-1.06513258, -1.52713221],\n",
              "       [ 0.79762394, -1.2090227 ],\n",
              "       [ 0.99370357,  2.05882953],\n",
              "       [-1.1631724 , -1.52713221],\n",
              "       [-0.28081405,  0.78639149],\n",
              "       [ 0.11134522, -0.31253226],\n",
              "       [-1.35925203, -1.23794174],\n",
              "       [-0.5749335 , -1.49821316],\n",
              "       [ 0.79762394,  0.52612008],\n",
              "       [-0.28081405, -0.34145131],\n",
              "       [ 1.7780221 , -0.28361322],\n",
              "       [ 0.89566375, -1.03550842],\n",
              "       [ 0.20938504,  0.06341534],\n",
              "       [-0.5749335 ,  0.87314863],\n",
              "       [-1.84945111, -1.41145602],\n",
              "       [-1.26121221,  0.58395817],\n",
              "       [-0.28081405,  0.52612008],\n",
              "       [-0.96709276, -1.09334651],\n",
              "       [ 1.1897832 , -1.44037507],\n",
              "       [ 0.20938504, -0.31253226],\n",
              "       [ 1.1897832 , -0.74631796],\n",
              "       [-0.28081405,  0.06341534],\n",
              "       [ 0.20938504,  2.08774857],\n",
              "       [ 0.79762394, -1.09334651],\n",
              "       [ 0.11134522,  0.03449629],\n",
              "       [-1.7514113 ,  0.12125343],\n",
              "       [-0.86905295,  0.15017248],\n",
              "       [-0.67297331,  0.17909152],\n",
              "       [ 0.89566375, -1.29577984],\n",
              "       [ 0.20938504, -0.25469417],\n",
              "       [-0.37885386,  1.22017719],\n",
              "       [ 0.0133054 ,  0.29476771],\n",
              "       [ 0.40546467,  0.15017248],\n",
              "       [ 0.89566375, -0.65956082],\n",
              "       [ 0.11134522,  0.15017248],\n",
              "       [-1.84945111, -1.29577984],\n",
              "       [-0.08473441,  0.29476771],\n",
              "       [-0.18277423, -0.28361322],\n",
              "       [ 0.30742485, -0.51496559],\n",
              "       [-0.18277423,  1.59612479],\n",
              "       [ 0.99370357, -1.18010365],\n",
              "       [-0.18277423,  1.62504383],\n",
              "       [ 1.28782302,  1.8563962 ],\n",
              "       [-1.06513258, -0.37037036],\n",
              "       [ 0.0133054 ,  0.03449629],\n",
              "       [ 0.11134522, -0.25469417],\n",
              "       [-1.55533166, -1.23794174],\n",
              "       [-0.47689368, -0.28361322],\n",
              "       [ 0.99370357,  0.12125343],\n",
              "       [ 1.97410174, -1.35361793],\n",
              "       [ 1.48390265,  0.06341534],\n",
              "       [-0.5749335 ,  1.36477242],\n",
              "       [ 1.58194247,  0.00557724],\n",
              "       [-0.77101313,  0.29476771],\n",
              "       [ 1.97410174,  0.7285534 ],\n",
              "       [-1.1631724 , -0.51496559],\n",
              "       [ 0.69958412,  0.26584866],\n",
              "       [-1.35925203, -0.42820845],\n",
              "       [ 0.20938504,  0.15017248],\n",
              "       [-0.47689368, -1.2090227 ],\n",
              "       [ 0.6015443 ,  2.00099143],\n",
              "       [-1.55533166, -1.49821316],\n",
              "       [-0.47689368, -0.54388463],\n",
              "       [ 0.50350449,  1.82747716],\n",
              "       [-1.35925203, -1.09334651],\n",
              "       [ 0.79762394, -1.38253697],\n",
              "       [-0.28081405, -0.42820845],\n",
              "       [ 1.58194247,  0.98882482],\n",
              "       [ 0.99370357,  1.42261051],\n",
              "       [-0.28081405, -0.48604654],\n",
              "       [-0.08473441,  2.14558666],\n",
              "       [-1.45729185, -0.11009894],\n",
              "       [-0.08473441,  1.94315334],\n",
              "       [-0.67297331, -0.34145131],\n",
              "       [-0.47689368, -0.8330751 ],\n",
              "       [ 0.69958412, -1.38253697],\n",
              "       [-0.77101313, -1.5849703 ],\n",
              "       [-1.84945111, -1.46929411],\n",
              "       [ 1.09174339,  0.12125343],\n",
              "       [ 0.11134522,  1.50936765],\n",
              "       [-0.28081405,  0.09233438],\n",
              "       [ 0.11134522,  0.03449629],\n",
              "       [-1.35925203, -1.35361793],\n",
              "       [ 0.30742485,  0.06341534],\n",
              "       [-0.86905295,  0.38152485],\n",
              "       [ 1.58194247, -1.26686079],\n",
              "       [-0.28081405, -0.74631796],\n",
              "       [-0.08473441,  0.15017248],\n",
              "       [-0.86905295, -0.65956082],\n",
              "       [-0.67297331, -0.05226085],\n",
              "       [ 0.40546467, -0.45712749],\n",
              "       [-0.77101313,  1.88531525],\n",
              "       [ 1.38586284,  1.27801528],\n",
              "       [ 1.1897832 , -0.97767033],\n",
              "       [ 1.7780221 ,  1.82747716],\n",
              "       [-0.86905295, -0.25469417],\n",
              "       [-0.77101313,  0.55503912],\n",
              "       [-1.1631724 , -1.55605125],\n",
              "       [-0.47689368, -1.12226556],\n",
              "       [ 0.30742485,  0.06341534],\n",
              "       [-0.18277423, -1.06442747],\n",
              "       [ 1.67998229,  1.59612479],\n",
              "       [ 0.99370357,  1.76963906],\n",
              "       [ 0.30742485,  0.03449629],\n",
              "       [-0.77101313, -0.22577513],\n",
              "       [-0.08473441,  0.06341534],\n",
              "       [ 0.30742485, -0.19685608],\n",
              "       [ 1.97410174, -0.65956082],\n",
              "       [-0.77101313,  1.33585337],\n",
              "       [-1.7514113 , -0.60172273],\n",
              "       [-0.08473441,  0.12125343],\n",
              "       [ 0.30742485, -0.31253226],\n",
              "       [ 1.09174339,  0.55503912],\n",
              "       [-0.96709276,  0.26584866],\n",
              "       [ 1.48390265,  0.3526058 ],\n",
              "       [ 0.20938504, -0.37037036],\n",
              "       [ 2.17018137, -1.03550842],\n",
              "       [-0.28081405,  1.104501  ],\n",
              "       [-1.65337148,  0.06341534],\n",
              "       [ 0.0133054 ,  0.03449629],\n",
              "       [ 0.11134522,  1.04666291],\n",
              "       [-0.08473441, -0.37037036],\n",
              "       [-1.1631724 ,  0.06341534],\n",
              "       [-0.28081405, -1.35361793],\n",
              "       [ 1.58194247,  1.104501  ],\n",
              "       [-0.77101313, -1.52713221],\n",
              "       [ 0.11134522,  1.8563962 ],\n",
              "       [-0.86905295, -0.775237  ],\n",
              "       [-0.47689368, -0.775237  ],\n",
              "       [-0.28081405, -0.91983223],\n",
              "       [ 0.30742485, -0.71739891],\n",
              "       [ 0.30742485,  0.06341534],\n",
              "       [ 0.11134522,  1.8563962 ],\n",
              "       [-1.06513258,  1.94315334],\n",
              "       [-1.65337148, -1.55605125],\n",
              "       [-1.1631724 , -1.09334651],\n",
              "       [-0.67297331, -0.11009894],\n",
              "       [ 0.11134522,  0.09233438],\n",
              "       [ 0.30742485,  0.26584866],\n",
              "       [ 0.89566375, -0.57280368],\n",
              "       [ 0.30742485, -1.1511846 ],\n",
              "       [-0.08473441,  0.67071531],\n",
              "       [ 2.17018137, -0.68847986],\n",
              "       [-1.26121221, -1.38253697],\n",
              "       [-0.96709276, -0.94875128],\n",
              "       [ 0.0133054 , -0.42820845],\n",
              "       [-0.18277423, -0.45712749],\n",
              "       [-1.7514113 , -0.97767033],\n",
              "       [ 1.7780221 ,  0.98882482],\n",
              "       [ 0.20938504, -0.37037036],\n",
              "       [ 0.40546467,  1.104501  ],\n",
              "       [-1.7514113 , -1.35361793],\n",
              "       [ 0.20938504, -0.13901799],\n",
              "       [ 0.89566375, -1.44037507],\n",
              "       [-1.94749093,  0.46828198],\n",
              "       [-0.28081405,  0.26584866],\n",
              "       [ 1.87606192, -1.06442747],\n",
              "       [-0.37885386,  0.06341534],\n",
              "       [ 1.09174339, -0.89091319],\n",
              "       [-1.06513258, -1.12226556],\n",
              "       [-1.84945111,  0.00557724],\n",
              "       [ 0.11134522,  0.26584866],\n",
              "       [-1.1631724 ,  0.32368675],\n",
              "       [-1.26121221,  0.29476771],\n",
              "       [-0.96709276,  0.43936294],\n",
              "       [ 1.67998229, -0.89091319],\n",
              "       [ 1.1897832 ,  0.52612008],\n",
              "       [ 1.09174339,  0.52612008],\n",
              "       [ 1.38586284,  2.31910094],\n",
              "       [-0.28081405, -0.13901799],\n",
              "       [ 0.40546467, -0.45712749],\n",
              "       [-0.37885386, -0.775237  ],\n",
              "       [-0.08473441, -0.51496559],\n",
              "       [ 0.99370357, -1.1511846 ],\n",
              "       [-0.86905295, -0.775237  ],\n",
              "       [-0.18277423, -0.51496559],\n",
              "       [-1.06513258, -0.45712749],\n",
              "       [-1.1631724 ,  1.39369146]])"
            ]
          },
          "metadata": {},
          "execution_count": 15
        }
      ]
    },
    {
      "cell_type": "code",
      "source": [
        "X_train_scaled = pd.DataFrame(X_train_scaled,columns=X_train.columns)\n",
        "X_test_scaled = pd.DataFrame(X_test_scaled,columns = X_test.columns)"
      ],
      "metadata": {
        "id": "Iwn6ZJFJ0XIx"
      },
      "execution_count": 16,
      "outputs": []
    },
    {
      "cell_type": "code",
      "source": [
        "# Original Dataset\n",
        "np.round(X_train.describe(),1)"
      ],
      "metadata": {
        "colab": {
          "base_uri": "https://localhost:8080/",
          "height": 300
        },
        "id": "CmqTQU0q0zOq",
        "outputId": "bdd51560-7832-436e-b588-7725acdd1e7a"
      },
      "execution_count": 17,
      "outputs": [
        {
          "output_type": "execute_result",
          "data": {
            "text/plain": [
              "         Age  EstimatedSalary\n",
              "count  280.0            280.0\n",
              "mean    37.9          69807.1\n",
              "std     10.2          34641.2\n",
              "min     18.0          15000.0\n",
              "25%     30.0          43000.0\n",
              "50%     37.0          70500.0\n",
              "75%     46.0          88000.0\n",
              "max     60.0         150000.0"
            ],
            "text/html": [
              "\n",
              "  <div id=\"df-49c9ee3d-4360-449d-856a-cbfce662fb0d\">\n",
              "    <div class=\"colab-df-container\">\n",
              "      <div>\n",
              "<style scoped>\n",
              "    .dataframe tbody tr th:only-of-type {\n",
              "        vertical-align: middle;\n",
              "    }\n",
              "\n",
              "    .dataframe tbody tr th {\n",
              "        vertical-align: top;\n",
              "    }\n",
              "\n",
              "    .dataframe thead th {\n",
              "        text-align: right;\n",
              "    }\n",
              "</style>\n",
              "<table border=\"1\" class=\"dataframe\">\n",
              "  <thead>\n",
              "    <tr style=\"text-align: right;\">\n",
              "      <th></th>\n",
              "      <th>Age</th>\n",
              "      <th>EstimatedSalary</th>\n",
              "    </tr>\n",
              "  </thead>\n",
              "  <tbody>\n",
              "    <tr>\n",
              "      <th>count</th>\n",
              "      <td>280.0</td>\n",
              "      <td>280.0</td>\n",
              "    </tr>\n",
              "    <tr>\n",
              "      <th>mean</th>\n",
              "      <td>37.9</td>\n",
              "      <td>69807.1</td>\n",
              "    </tr>\n",
              "    <tr>\n",
              "      <th>std</th>\n",
              "      <td>10.2</td>\n",
              "      <td>34641.2</td>\n",
              "    </tr>\n",
              "    <tr>\n",
              "      <th>min</th>\n",
              "      <td>18.0</td>\n",
              "      <td>15000.0</td>\n",
              "    </tr>\n",
              "    <tr>\n",
              "      <th>25%</th>\n",
              "      <td>30.0</td>\n",
              "      <td>43000.0</td>\n",
              "    </tr>\n",
              "    <tr>\n",
              "      <th>50%</th>\n",
              "      <td>37.0</td>\n",
              "      <td>70500.0</td>\n",
              "    </tr>\n",
              "    <tr>\n",
              "      <th>75%</th>\n",
              "      <td>46.0</td>\n",
              "      <td>88000.0</td>\n",
              "    </tr>\n",
              "    <tr>\n",
              "      <th>max</th>\n",
              "      <td>60.0</td>\n",
              "      <td>150000.0</td>\n",
              "    </tr>\n",
              "  </tbody>\n",
              "</table>\n",
              "</div>\n",
              "      <button class=\"colab-df-convert\" onclick=\"convertToInteractive('df-49c9ee3d-4360-449d-856a-cbfce662fb0d')\"\n",
              "              title=\"Convert this dataframe to an interactive table.\"\n",
              "              style=\"display:none;\">\n",
              "        \n",
              "  <svg xmlns=\"http://www.w3.org/2000/svg\" height=\"24px\"viewBox=\"0 0 24 24\"\n",
              "       width=\"24px\">\n",
              "    <path d=\"M0 0h24v24H0V0z\" fill=\"none\"/>\n",
              "    <path d=\"M18.56 5.44l.94 2.06.94-2.06 2.06-.94-2.06-.94-.94-2.06-.94 2.06-2.06.94zm-11 1L8.5 8.5l.94-2.06 2.06-.94-2.06-.94L8.5 2.5l-.94 2.06-2.06.94zm10 10l.94 2.06.94-2.06 2.06-.94-2.06-.94-.94-2.06-.94 2.06-2.06.94z\"/><path d=\"M17.41 7.96l-1.37-1.37c-.4-.4-.92-.59-1.43-.59-.52 0-1.04.2-1.43.59L10.3 9.45l-7.72 7.72c-.78.78-.78 2.05 0 2.83L4 21.41c.39.39.9.59 1.41.59.51 0 1.02-.2 1.41-.59l7.78-7.78 2.81-2.81c.8-.78.8-2.07 0-2.86zM5.41 20L4 18.59l7.72-7.72 1.47 1.35L5.41 20z\"/>\n",
              "  </svg>\n",
              "      </button>\n",
              "      \n",
              "  <style>\n",
              "    .colab-df-container {\n",
              "      display:flex;\n",
              "      flex-wrap:wrap;\n",
              "      gap: 12px;\n",
              "    }\n",
              "\n",
              "    .colab-df-convert {\n",
              "      background-color: #E8F0FE;\n",
              "      border: none;\n",
              "      border-radius: 50%;\n",
              "      cursor: pointer;\n",
              "      display: none;\n",
              "      fill: #1967D2;\n",
              "      height: 32px;\n",
              "      padding: 0 0 0 0;\n",
              "      width: 32px;\n",
              "    }\n",
              "\n",
              "    .colab-df-convert:hover {\n",
              "      background-color: #E2EBFA;\n",
              "      box-shadow: 0px 1px 2px rgba(60, 64, 67, 0.3), 0px 1px 3px 1px rgba(60, 64, 67, 0.15);\n",
              "      fill: #174EA6;\n",
              "    }\n",
              "\n",
              "    [theme=dark] .colab-df-convert {\n",
              "      background-color: #3B4455;\n",
              "      fill: #D2E3FC;\n",
              "    }\n",
              "\n",
              "    [theme=dark] .colab-df-convert:hover {\n",
              "      background-color: #434B5C;\n",
              "      box-shadow: 0px 1px 3px 1px rgba(0, 0, 0, 0.15);\n",
              "      filter: drop-shadow(0px 1px 2px rgba(0, 0, 0, 0.3));\n",
              "      fill: #FFFFFF;\n",
              "    }\n",
              "  </style>\n",
              "\n",
              "      <script>\n",
              "        const buttonEl =\n",
              "          document.querySelector('#df-49c9ee3d-4360-449d-856a-cbfce662fb0d button.colab-df-convert');\n",
              "        buttonEl.style.display =\n",
              "          google.colab.kernel.accessAllowed ? 'block' : 'none';\n",
              "\n",
              "        async function convertToInteractive(key) {\n",
              "          const element = document.querySelector('#df-49c9ee3d-4360-449d-856a-cbfce662fb0d');\n",
              "          const dataTable =\n",
              "            await google.colab.kernel.invokeFunction('convertToInteractive',\n",
              "                                                     [key], {});\n",
              "          if (!dataTable) return;\n",
              "\n",
              "          const docLinkHtml = 'Like what you see? Visit the ' +\n",
              "            '<a target=\"_blank\" href=https://colab.research.google.com/notebooks/data_table.ipynb>data table notebook</a>'\n",
              "            + ' to learn more about interactive tables.';\n",
              "          element.innerHTML = '';\n",
              "          dataTable['output_type'] = 'display_data';\n",
              "          await google.colab.output.renderOutput(dataTable, element);\n",
              "          const docLink = document.createElement('div');\n",
              "          docLink.innerHTML = docLinkHtml;\n",
              "          element.appendChild(docLink);\n",
              "        }\n",
              "      </script>\n",
              "    </div>\n",
              "  </div>\n",
              "  "
            ]
          },
          "metadata": {},
          "execution_count": 17
        }
      ]
    },
    {
      "cell_type": "code",
      "source": [
        "# Transformed Dataset\n",
        "np.round(X_train_scaled.describe(),1)"
      ],
      "metadata": {
        "colab": {
          "base_uri": "https://localhost:8080/",
          "height": 300
        },
        "id": "PSzi1YXT04Ng",
        "outputId": "5c0d0be0-9c74-48e6-ecc7-70a826b92c89"
      },
      "execution_count": 18,
      "outputs": [
        {
          "output_type": "execute_result",
          "data": {
            "text/plain": [
              "         Age  EstimatedSalary\n",
              "count  280.0            280.0\n",
              "mean     0.0              0.0\n",
              "std      1.0              1.0\n",
              "min     -1.9             -1.6\n",
              "25%     -0.8             -0.8\n",
              "50%     -0.1              0.0\n",
              "75%      0.8              0.5\n",
              "max      2.2              2.3"
            ],
            "text/html": [
              "\n",
              "  <div id=\"df-8f31f3b8-2120-41d0-963e-3641947a21ee\">\n",
              "    <div class=\"colab-df-container\">\n",
              "      <div>\n",
              "<style scoped>\n",
              "    .dataframe tbody tr th:only-of-type {\n",
              "        vertical-align: middle;\n",
              "    }\n",
              "\n",
              "    .dataframe tbody tr th {\n",
              "        vertical-align: top;\n",
              "    }\n",
              "\n",
              "    .dataframe thead th {\n",
              "        text-align: right;\n",
              "    }\n",
              "</style>\n",
              "<table border=\"1\" class=\"dataframe\">\n",
              "  <thead>\n",
              "    <tr style=\"text-align: right;\">\n",
              "      <th></th>\n",
              "      <th>Age</th>\n",
              "      <th>EstimatedSalary</th>\n",
              "    </tr>\n",
              "  </thead>\n",
              "  <tbody>\n",
              "    <tr>\n",
              "      <th>count</th>\n",
              "      <td>280.0</td>\n",
              "      <td>280.0</td>\n",
              "    </tr>\n",
              "    <tr>\n",
              "      <th>mean</th>\n",
              "      <td>0.0</td>\n",
              "      <td>0.0</td>\n",
              "    </tr>\n",
              "    <tr>\n",
              "      <th>std</th>\n",
              "      <td>1.0</td>\n",
              "      <td>1.0</td>\n",
              "    </tr>\n",
              "    <tr>\n",
              "      <th>min</th>\n",
              "      <td>-1.9</td>\n",
              "      <td>-1.6</td>\n",
              "    </tr>\n",
              "    <tr>\n",
              "      <th>25%</th>\n",
              "      <td>-0.8</td>\n",
              "      <td>-0.8</td>\n",
              "    </tr>\n",
              "    <tr>\n",
              "      <th>50%</th>\n",
              "      <td>-0.1</td>\n",
              "      <td>0.0</td>\n",
              "    </tr>\n",
              "    <tr>\n",
              "      <th>75%</th>\n",
              "      <td>0.8</td>\n",
              "      <td>0.5</td>\n",
              "    </tr>\n",
              "    <tr>\n",
              "      <th>max</th>\n",
              "      <td>2.2</td>\n",
              "      <td>2.3</td>\n",
              "    </tr>\n",
              "  </tbody>\n",
              "</table>\n",
              "</div>\n",
              "      <button class=\"colab-df-convert\" onclick=\"convertToInteractive('df-8f31f3b8-2120-41d0-963e-3641947a21ee')\"\n",
              "              title=\"Convert this dataframe to an interactive table.\"\n",
              "              style=\"display:none;\">\n",
              "        \n",
              "  <svg xmlns=\"http://www.w3.org/2000/svg\" height=\"24px\"viewBox=\"0 0 24 24\"\n",
              "       width=\"24px\">\n",
              "    <path d=\"M0 0h24v24H0V0z\" fill=\"none\"/>\n",
              "    <path d=\"M18.56 5.44l.94 2.06.94-2.06 2.06-.94-2.06-.94-.94-2.06-.94 2.06-2.06.94zm-11 1L8.5 8.5l.94-2.06 2.06-.94-2.06-.94L8.5 2.5l-.94 2.06-2.06.94zm10 10l.94 2.06.94-2.06 2.06-.94-2.06-.94-.94-2.06-.94 2.06-2.06.94z\"/><path d=\"M17.41 7.96l-1.37-1.37c-.4-.4-.92-.59-1.43-.59-.52 0-1.04.2-1.43.59L10.3 9.45l-7.72 7.72c-.78.78-.78 2.05 0 2.83L4 21.41c.39.39.9.59 1.41.59.51 0 1.02-.2 1.41-.59l7.78-7.78 2.81-2.81c.8-.78.8-2.07 0-2.86zM5.41 20L4 18.59l7.72-7.72 1.47 1.35L5.41 20z\"/>\n",
              "  </svg>\n",
              "      </button>\n",
              "      \n",
              "  <style>\n",
              "    .colab-df-container {\n",
              "      display:flex;\n",
              "      flex-wrap:wrap;\n",
              "      gap: 12px;\n",
              "    }\n",
              "\n",
              "    .colab-df-convert {\n",
              "      background-color: #E8F0FE;\n",
              "      border: none;\n",
              "      border-radius: 50%;\n",
              "      cursor: pointer;\n",
              "      display: none;\n",
              "      fill: #1967D2;\n",
              "      height: 32px;\n",
              "      padding: 0 0 0 0;\n",
              "      width: 32px;\n",
              "    }\n",
              "\n",
              "    .colab-df-convert:hover {\n",
              "      background-color: #E2EBFA;\n",
              "      box-shadow: 0px 1px 2px rgba(60, 64, 67, 0.3), 0px 1px 3px 1px rgba(60, 64, 67, 0.15);\n",
              "      fill: #174EA6;\n",
              "    }\n",
              "\n",
              "    [theme=dark] .colab-df-convert {\n",
              "      background-color: #3B4455;\n",
              "      fill: #D2E3FC;\n",
              "    }\n",
              "\n",
              "    [theme=dark] .colab-df-convert:hover {\n",
              "      background-color: #434B5C;\n",
              "      box-shadow: 0px 1px 3px 1px rgba(0, 0, 0, 0.15);\n",
              "      filter: drop-shadow(0px 1px 2px rgba(0, 0, 0, 0.3));\n",
              "      fill: #FFFFFF;\n",
              "    }\n",
              "  </style>\n",
              "\n",
              "      <script>\n",
              "        const buttonEl =\n",
              "          document.querySelector('#df-8f31f3b8-2120-41d0-963e-3641947a21ee button.colab-df-convert');\n",
              "        buttonEl.style.display =\n",
              "          google.colab.kernel.accessAllowed ? 'block' : 'none';\n",
              "\n",
              "        async function convertToInteractive(key) {\n",
              "          const element = document.querySelector('#df-8f31f3b8-2120-41d0-963e-3641947a21ee');\n",
              "          const dataTable =\n",
              "            await google.colab.kernel.invokeFunction('convertToInteractive',\n",
              "                                                     [key], {});\n",
              "          if (!dataTable) return;\n",
              "\n",
              "          const docLinkHtml = 'Like what you see? Visit the ' +\n",
              "            '<a target=\"_blank\" href=https://colab.research.google.com/notebooks/data_table.ipynb>data table notebook</a>'\n",
              "            + ' to learn more about interactive tables.';\n",
              "          element.innerHTML = '';\n",
              "          dataTable['output_type'] = 'display_data';\n",
              "          await google.colab.output.renderOutput(dataTable, element);\n",
              "          const docLink = document.createElement('div');\n",
              "          docLink.innerHTML = docLinkHtml;\n",
              "          element.appendChild(docLink);\n",
              "        }\n",
              "      </script>\n",
              "    </div>\n",
              "  </div>\n",
              "  "
            ]
          },
          "metadata": {},
          "execution_count": 18
        }
      ]
    },
    {
      "cell_type": "markdown",
      "source": [
        "## After Scaling"
      ],
      "metadata": {
        "id": "ZhOLzVkB1S34"
      }
    },
    {
      "cell_type": "code",
      "source": [
        "fig, (ax1,ax2) = plt.subplots(ncols=2,figsize=(12,5))\n",
        "\n",
        "\n",
        "ax1.scatter(X_train['Age'],X_train['EstimatedSalary'])\n",
        "ax1.set_title('Before Scaling')\n",
        "ax2.scatter(X_train_scaled['Age'],X_train_scaled['EstimatedSalary'],color='red')\n",
        "ax2.set_title('After Scaling')\n",
        "plt.show()"
      ],
      "metadata": {
        "colab": {
          "base_uri": "https://localhost:8080/",
          "height": 336
        },
        "id": "TdoyQYHa1McJ",
        "outputId": "f58fa3b8-8de5-42da-b1ed-4d64b103370d"
      },
      "execution_count": 19,
      "outputs": [
        {
          "output_type": "display_data",
          "data": {
            "text/plain": [
              "<Figure size 864x360 with 2 Axes>"
            ],
            "image/png": "[encoded data removed]"
          },
          "metadata": {
            "needs_background": "light"
          }
        }
      ]
    },
    {
      "cell_type": "code",
      "source": [
        "fig, (ax1,ax2) = plt.subplots(ncols=2,figsize=(12,5))\n",
        "\n",
        "ax1.set_title('Before Scaling')\n",
        "sns.kdeplot(X_train['Age'],ax=ax1)\n",
        "sns.kdeplot(X_train['EstimatedSalary'],ax=ax1)\n",
        "\n",
        "ax2.set_title('After Scaling')\n",
        "sns.kdeplot(X_train_scaled['Age'],ax=ax2)\n",
        "sns.kdeplot(X_train_scaled['EstimatedSalary'],ax=ax2)\n",
        "plt.show()"
      ],
      "metadata": {
        "colab": {
          "base_uri": "https://localhost:8080/",
          "height": 350
        },
        "id": "wz83e5_Y2FxG",
        "outputId": "1939702e-919a-49a5-ecb6-ee3195874e01"
      },
      "execution_count": 21,
      "outputs": [
        {
          "output_type": "display_data",
          "data": {
            "text/plain": [
              "<Figure size 864x360 with 2 Axes>"
            ],
            "image/png": "[encoded data removed]"
          },
          "metadata": {
            "needs_background": "light"
          }
        }
      ]
    },
    {
      "cell_type": "markdown",
      "source": [
        "## Comparision of Distribution"
      ],
      "metadata": {
        "id": "p7euQPZy3d68"
      }
    },
    {
      "cell_type": "code",
      "source": [
        "fig, (ax1,ax2) = plt.subplots(ncols=2,figsize=(12,5))\n",
        "\n",
        "ax1.set_title('Age Distribution before scaling')\n",
        "sns.kdeplot(X_train['Age'],ax=ax1)\n",
        "\n",
        "ax2.set_title('Age Distribution after scaling')\n",
        "sns.kdeplot(X_train_scaled['Age'],ax=ax2)\n",
        "plt.show()\n"
      ],
      "metadata": {
        "colab": {
          "base_uri": "https://localhost:8080/",
          "height": 350
        },
        "id": "P1hyMxMY3drN",
        "outputId": "02619a34-a648-4486-d4ef-0b3e8119956d"
      },
      "execution_count": 23,
      "outputs": [
        {
          "output_type": "display_data",
          "data": {
            "text/plain": [
              "<Figure size 864x360 with 2 Axes>"
            ],
            "image/png": "[encoded data removed]"
          },
          "metadata": {
            "needs_background": "light"
          }
        }
      ]
    },
    {
      "cell_type": "code",
      "source": [
        "fig, (ax1,ax2) = plt.subplots(ncols=2,figsize=(12,5))\n",
        "\n",
        "ax1.set_title('Salary Distribution before scaling')\n",
        "sns.kdeplot(X_train['EstimatedSalary'],ax=ax1)\n",
        "\n",
        "ax2.set_title('Salary Distribution after scaling')\n",
        "sns.kdeplot(X_train_scaled['EstimatedSalary'],ax=ax2)\n",
        "plt.show()\n"
      ],
      "metadata": {
        "colab": {
          "base_uri": "https://localhost:8080/",
          "height": 350
        },
        "id": "8QPQvtnM3PvY",
        "outputId": "23c4f5e9-8f17-4246-9bc0-4b38e51cd107"
      },
      "execution_count": 25,
      "outputs": [
        {
          "output_type": "display_data",
          "data": {
            "text/plain": [
              "<Figure size 864x360 with 2 Axes>"
            ],
            "image/png": "[encoded data removed]"
          },
          "metadata": {
            "needs_background": "light"
          }
        }
      ]
    },
    {
      "cell_type": "markdown",
      "source": [
        "## Importance of Scaling"
      ],
      "metadata": {
        "id": "Af-jc8cm4nGb"
      }
    },
    {
      "cell_type": "markdown",
      "source": [
        "## Exprimenting on Logistic Regression"
      ],
      "metadata": {
        "id": "wGDON8zd53aG"
      }
    },
    {
      "cell_type": "code",
      "source": [
        "from sklearn.linear_model import LogisticRegression"
      ],
      "metadata": {
        "id": "2nnDT2eH4bCB"
      },
      "execution_count": 26,
      "outputs": []
    },
    {
      "cell_type": "code",
      "source": [
        "lr = LogisticRegression()\n",
        "lr_scaled = LogisticRegression()"
      ],
      "metadata": {
        "id": "jR0Mqcfi4yUL"
      },
      "execution_count": 27,
      "outputs": []
    },
    {
      "cell_type": "code",
      "source": [
        "lr.fit(X_train,y_train)\n",
        "lr_scaled.fit(X_train_scaled,y_train)"
      ],
      "metadata": {
        "colab": {
          "base_uri": "https://localhost:8080/"
        },
        "id": "PzD4wI-846dp",
        "outputId": "0c21c9ac-d569-479e-8cf5-5cf2f2c25233"
      },
      "execution_count": 28,
      "outputs": [
        {
          "output_type": "execute_result",
          "data": {
            "text/plain": [
              "LogisticRegression()"
            ]
          },
          "metadata": {},
          "execution_count": 28
        }
      ]
    },
    {
      "cell_type": "code",
      "source": [
        " y_pred = lr.predict(X_test)\n",
        " y_pred_scaled = lr_scaled.predict(X_test_scaled)"
      ],
      "metadata": {
        "id": "nHG5nY5C5EI3"
      },
      "execution_count": 29,
      "outputs": []
    },
    {
      "cell_type": "code",
      "source": [
        "from sklearn.metrics import accuracy_score"
      ],
      "metadata": {
        "id": "EIDarCNd5UVC"
      },
      "execution_count": 30,
      "outputs": []
    },
    {
      "cell_type": "code",
      "source": [
        "print('Actual',accuracy_score(y_test,y_pred))\n",
        "print('Scaled',accuracy_score(y_test,y_pred_scaled))"
      ],
      "metadata": {
        "colab": {
          "base_uri": "https://localhost:8080/"
        },
        "id": "fhBJ7oUG5csd",
        "outputId": "e9aebbfc-94a8-438b-90fb-ea260a2a59f1"
      },
      "execution_count": 31,
      "outputs": [
        {
          "output_type": "stream",
          "name": "stdout",
          "text": [
            "Actual 0.6583333333333333\n",
            "Scaled 0.8666666666666667\n"
          ]
        }
      ]
    },
    {
      "cell_type": "markdown",
      "source": [
        "## Exprimenting on DecisionTree"
      ],
      "metadata": {
        "id": "YVy78UC158V5"
      }
    },
    {
      "cell_type": "code",
      "source": [
        "from sklearn.tree import DecisionTreeClassifier"
      ],
      "metadata": {
        "id": "TK2qFn645wSm"
      },
      "execution_count": 33,
      "outputs": []
    },
    {
      "cell_type": "code",
      "source": [
        "dt = DecisionTreeClassifier()\n",
        "dt_scaled = DecisionTreeClassifier()"
      ],
      "metadata": {
        "id": "xRPesPe56IEf"
      },
      "execution_count": 34,
      "outputs": []
    },
    {
      "cell_type": "code",
      "source": [
        "dt.fit(X_train,y_train)\n",
        "dt_scaled.fit(X_train_scaled,y_train)"
      ],
      "metadata": {
        "colab": {
          "base_uri": "https://localhost:8080/"
        },
        "id": "JLwAQS8C6Xgx",
        "outputId": "e7ffbae6-252f-4ced-c181-91c25d3a6066"
      },
      "execution_count": 35,
      "outputs": [
        {
          "output_type": "execute_result",
          "data": {
            "text/plain": [
              "DecisionTreeClassifier()"
            ]
          },
          "metadata": {},
          "execution_count": 35
        }
      ]
    },
    {
      "cell_type": "code",
      "source": [
        "y_pred = dt.predict(X_test)\n",
        "y_pred_scaled = dt_scaled.predict(X_test_scaled)"
      ],
      "metadata": {
        "id": "8lPxUvZk6iIJ"
      },
      "execution_count": 36,
      "outputs": []
    },
    {
      "cell_type": "code",
      "source": [
        "print('Actual',accuracy_score(y_test,y_pred))\n",
        "print('Scaled',accuracy_score(y_test,y_pred_scaled))"
      ],
      "metadata": {
        "colab": {
          "base_uri": "https://localhost:8080/"
        },
        "id": "7HOuxWSI6yZn",
        "outputId": "69bb69cb-924c-4842-ae04-36a5ae757bcc"
      },
      "execution_count": 37,
      "outputs": [
        {
          "output_type": "stream",
          "name": "stdout",
          "text": [
            "Actual 0.875\n",
            "Scaled 0.875\n"
          ]
        }
      ]
    },
    {
      "cell_type": "code",
      "source": [
        "df.describe()"
      ],
      "metadata": {
        "colab": {
          "base_uri": "https://localhost:8080/",
          "height": 300
        },
        "id": "Kl76PZ1o62xY",
        "outputId": "1c263fcd-d1d7-4741-9632-9e2db8223c57"
      },
      "execution_count": 39,
      "outputs": [
        {
          "output_type": "execute_result",
          "data": {
            "text/plain": [
              "              Age  EstimatedSalary   Purchased\n",
              "count  400.000000       400.000000  400.000000\n",
              "mean    37.655000     69742.500000    0.357500\n",
              "std     10.482877     34096.960282    0.479864\n",
              "min     18.000000     15000.000000    0.000000\n",
              "25%     29.750000     43000.000000    0.000000\n",
              "50%     37.000000     70000.000000    0.000000\n",
              "75%     46.000000     88000.000000    1.000000\n",
              "max     60.000000    150000.000000    1.000000"
            ],
            "text/html": [
              "\n",
              "  <div id=\"df-8b00bb18-a763-4db3-880a-9cdf2b8a77f5\">\n",
              "    <div class=\"colab-df-container\">\n",
              "      <div>\n",
              "<style scoped>\n",
              "    .dataframe tbody tr th:only-of-type {\n",
              "        vertical-align: middle;\n",
              "    }\n",
              "\n",
              "    .dataframe tbody tr th {\n",
              "        vertical-align: top;\n",
              "    }\n",
              "\n",
              "    .dataframe thead th {\n",
              "        text-align: right;\n",
              "    }\n",
              "</style>\n",
              "<table border=\"1\" class=\"dataframe\">\n",
              "  <thead>\n",
              "    <tr style=\"text-align: right;\">\n",
              "      <th></th>\n",
              "      <th>Age</th>\n",
              "      <th>EstimatedSalary</th>\n",
              "      <th>Purchased</th>\n",
              "    </tr>\n",
              "  </thead>\n",
              "  <tbody>\n",
              "    <tr>\n",
              "      <th>count</th>\n",
              "      <td>400.000000</td>\n",
              "      <td>400.000000</td>\n",
              "      <td>400.000000</td>\n",
              "    </tr>\n",
              "    <tr>\n",
              "      <th>mean</th>\n",
              "      <td>37.655000</td>\n",
              "      <td>69742.500000</td>\n",
              "      <td>0.357500</td>\n",
              "    </tr>\n",
              "    <tr>\n",
              "      <th>std</th>\n",
              "      <td>10.482877</td>\n",
              "      <td>34096.960282</td>\n",
              "      <td>0.479864</td>\n",
              "    </tr>\n",
              "    <tr>\n",
              "      <th>min</th>\n",
              "      <td>18.000000</td>\n",
              "      <td>15000.000000</td>\n",
              "      <td>0.000000</td>\n",
              "    </tr>\n",
              "    <tr>\n",
              "      <th>25%</th>\n",
              "      <td>29.750000</td>\n",
              "      <td>43000.000000</td>\n",
              "      <td>0.000000</td>\n",
              "    </tr>\n",
              "    <tr>\n",
              "      <th>50%</th>\n",
              "      <td>37.000000</td>\n",
              "      <td>70000.000000</td>\n",
              "      <td>0.000000</td>\n",
              "    </tr>\n",
              "    <tr>\n",
              "      <th>75%</th>\n",
              "      <td>46.000000</td>\n",
              "      <td>88000.000000</td>\n",
              "      <td>1.000000</td>\n",
              "    </tr>\n",
              "    <tr>\n",
              "      <th>max</th>\n",
              "      <td>60.000000</td>\n",
              "      <td>150000.000000</td>\n",
              "      <td>1.000000</td>\n",
              "    </tr>\n",
              "  </tbody>\n",
              "</table>\n",
              "</div>\n",
              "      <button class=\"colab-df-convert\" onclick=\"convertToInteractive('df-8b00bb18-a763-4db3-880a-9cdf2b8a77f5')\"\n",
              "              title=\"Convert this dataframe to an interactive table.\"\n",
              "              style=\"display:none;\">\n",
              "        \n",
              "  <svg xmlns=\"http://www.w3.org/2000/svg\" height=\"24px\"viewBox=\"0 0 24 24\"\n",
              "       width=\"24px\">\n",
              "    <path d=\"M0 0h24v24H0V0z\" fill=\"none\"/>\n",
              "    <path d=\"M18.56 5.44l.94 2.06.94-2.06 2.06-.94-2.06-.94-.94-2.06-.94 2.06-2.06.94zm-11 1L8.5 8.5l.94-2.06 2.06-.94-2.06-.94L8.5 2.5l-.94 2.06-2.06.94zm10 10l.94 2.06.94-2.06 2.06-.94-2.06-.94-.94-2.06-.94 2.06-2.06.94z\"/><path d=\"M17.41 7.96l-1.37-1.37c-.4-.4-.92-.59-1.43-.59-.52 0-1.04.2-1.43.59L10.3 9.45l-7.72 7.72c-.78.78-.78 2.05 0 2.83L4 21.41c.39.39.9.59 1.41.59.51 0 1.02-.2 1.41-.59l7.78-7.78 2.81-2.81c.8-.78.8-2.07 0-2.86zM5.41 20L4 18.59l7.72-7.72 1.47 1.35L5.41 20z\"/>\n",
              "  </svg>\n",
              "      </button>\n",
              "      \n",
              "  <style>\n",
              "    .colab-df-container {\n",
              "      display:flex;\n",
              "      flex-wrap:wrap;\n",
              "      gap: 12px;\n",
              "    }\n",
              "\n",
              "    .colab-df-convert {\n",
              "      background-color: #E8F0FE;\n",
              "      border: none;\n",
              "      border-radius: 50%;\n",
              "      cursor: pointer;\n",
              "      display: none;\n",
              "      fill: #1967D2;\n",
              "      height: 32px;\n",
              "      padding: 0 0 0 0;\n",
              "      width: 32px;\n",
              "    }\n",
              "\n",
              "    .colab-df-convert:hover {\n",
              "      background-color: #E2EBFA;\n",
              "      box-shadow: 0px 1px 2px rgba(60, 64, 67, 0.3), 0px 1px 3px 1px rgba(60, 64, 67, 0.15);\n",
              "      fill: #174EA6;\n",
              "    }\n",
              "\n",
              "    [theme=dark] .colab-df-convert {\n",
              "      background-color: #3B4455;\n",
              "      fill: #D2E3FC;\n",
              "    }\n",
              "\n",
              "    [theme=dark] .colab-df-convert:hover {\n",
              "      background-color: #434B5C;\n",
              "      box-shadow: 0px 1px 3px 1px rgba(0, 0, 0, 0.15);\n",
              "      filter: drop-shadow(0px 1px 2px rgba(0, 0, 0, 0.3));\n",
              "      fill: #FFFFFF;\n",
              "    }\n",
              "  </style>\n",
              "\n",
              "      <script>\n",
              "        const buttonEl =\n",
              "          document.querySelector('#df-8b00bb18-a763-4db3-880a-9cdf2b8a77f5 button.colab-df-convert');\n",
              "        buttonEl.style.display =\n",
              "          google.colab.kernel.accessAllowed ? 'block' : 'none';\n",
              "\n",
              "        async function convertToInteractive(key) {\n",
              "          const element = document.querySelector('#df-8b00bb18-a763-4db3-880a-9cdf2b8a77f5');\n",
              "          const dataTable =\n",
              "            await google.colab.kernel.invokeFunction('convertToInteractive',\n",
              "                                                     [key], {});\n",
              "          if (!dataTable) return;\n",
              "\n",
              "          const docLinkHtml = 'Like what you see? Visit the ' +\n",
              "            '<a target=\"_blank\" href=https://colab.research.google.com/notebooks/data_table.ipynb>data table notebook</a>'\n",
              "            + ' to learn more about interactive tables.';\n",
              "          element.innerHTML = '';\n",
              "          dataTable['output_type'] = 'display_data';\n",
              "          await google.colab.output.renderOutput(dataTable, element);\n",
              "          const docLink = document.createElement('div');\n",
              "          docLink.innerHTML = docLinkHtml;\n",
              "          element.appendChild(docLink);\n",
              "        }\n",
              "      </script>\n",
              "    </div>\n",
              "  </div>\n",
              "  "
            ]
          },
          "metadata": {},
          "execution_count": 39
        }
      ]
    },
    {
      "cell_type": "markdown",
      "source": [
        "## Now adding Outlier\n",
        "### In order to check the effect of outlier"
      ],
      "metadata": {
        "id": "Ww7u_8AB7Knc"
      }
    },
    {
      "cell_type": "code",
      "source": [
        "df = df.append(pd.DataFrame({'Age':[5,90,95],'EstimatedSalary':[1000,250000,35000],'Purchased':[0,1,1]}),ignore_index=True)"
      ],
      "metadata": {
        "id": "vSFNvgyV6-op"
      },
      "execution_count": 40,
      "outputs": []
    },
    {
      "cell_type": "code",
      "source": [
        "df"
      ],
      "metadata": {
        "colab": {
          "base_uri": "https://localhost:8080/",
          "height": 424
        },
        "id": "tGQJshml8Mmw",
        "outputId": "f4e1aca9-507a-42c2-a675-8404d041695c"
      },
      "execution_count": 41,
      "outputs": [
        {
          "output_type": "execute_result",
          "data": {
            "text/plain": [
              "     Age  EstimatedSalary  Purchased\n",
              "0     19            19000          0\n",
              "1     35            20000          0\n",
              "2     26            43000          0\n",
              "3     27            57000          0\n",
              "4     19            76000          0\n",
              "..   ...              ...        ...\n",
              "398   36            33000          0\n",
              "399   49            36000          1\n",
              "400    5             1000          0\n",
              "401   90           250000          1\n",
              "402   95            35000          1\n",
              "\n",
              "[403 rows x 3 columns]"
            ],
            "text/html": [
              "\n",
              "  <div id=\"df-632e8485-25ca-4d43-82f1-ac399c9651da\">\n",
              "    <div class=\"colab-df-container\">\n",
              "      <div>\n",
              "<style scoped>\n",
              "    .dataframe tbody tr th:only-of-type {\n",
              "        vertical-align: middle;\n",
              "    }\n",
              "\n",
              "    .dataframe tbody tr th {\n",
              "        vertical-align: top;\n",
              "    }\n",
              "\n",
              "    .dataframe thead th {\n",
              "        text-align: right;\n",
              "    }\n",
              "</style>\n",
              "<table border=\"1\" class=\"dataframe\">\n",
              "  <thead>\n",
              "    <tr style=\"text-align: right;\">\n",
              "      <th></th>\n",
              "      <th>Age</th>\n",
              "      <th>EstimatedSalary</th>\n",
              "      <th>Purchased</th>\n",
              "    </tr>\n",
              "  </thead>\n",
              "  <tbody>\n",
              "    <tr>\n",
              "      <th>0</th>\n",
              "      <td>19</td>\n",
              "      <td>19000</td>\n",
              "      <td>0</td>\n",
              "    </tr>\n",
              "    <tr>\n",
              "      <th>1</th>\n",
              "      <td>35</td>\n",
              "      <td>20000</td>\n",
              "      <td>0</td>\n",
              "    </tr>\n",
              "    <tr>\n",
              "      <th>2</th>\n",
              "      <td>26</td>\n",
              "      <td>43000</td>\n",
              "      <td>0</td>\n",
              "    </tr>\n",
              "    <tr>\n",
              "      <th>3</th>\n",
              "      <td>27</td>\n",
              "      <td>57000</td>\n",
              "      <td>0</td>\n",
              "    </tr>\n",
              "    <tr>\n",
              "      <th>4</th>\n",
              "      <td>19</td>\n",
              "      <td>76000</td>\n",
              "      <td>0</td>\n",
              "    </tr>\n",
              "    <tr>\n",
              "      <th>...</th>\n",
              "      <td>...</td>\n",
              "      <td>...</td>\n",
              "      <td>...</td>\n",
              "    </tr>\n",
              "    <tr>\n",
              "      <th>398</th>\n",
              "      <td>36</td>\n",
              "      <td>33000</td>\n",
              "      <td>0</td>\n",
              "    </tr>\n",
              "    <tr>\n",
              "      <th>399</th>\n",
              "      <td>49</td>\n",
              "      <td>36000</td>\n",
              "      <td>1</td>\n",
              "    </tr>\n",
              "    <tr>\n",
              "      <th>400</th>\n",
              "      <td>5</td>\n",
              "      <td>1000</td>\n",
              "      <td>0</td>\n",
              "    </tr>\n",
              "    <tr>\n",
              "      <th>401</th>\n",
              "      <td>90</td>\n",
              "      <td>250000</td>\n",
              "      <td>1</td>\n",
              "    </tr>\n",
              "    <tr>\n",
              "      <th>402</th>\n",
              "      <td>95</td>\n",
              "      <td>35000</td>\n",
              "      <td>1</td>\n",
              "    </tr>\n",
              "  </tbody>\n",
              "</table>\n",
              "<p>403 rows × 3 columns</p>\n",
              "</div>\n",
              "      <button class=\"colab-df-convert\" onclick=\"convertToInteractive('df-632e8485-25ca-4d43-82f1-ac399c9651da')\"\n",
              "              title=\"Convert this dataframe to an interactive table.\"\n",
              "              style=\"display:none;\">\n",
              "        \n",
              "  <svg xmlns=\"http://www.w3.org/2000/svg\" height=\"24px\"viewBox=\"0 0 24 24\"\n",
              "       width=\"24px\">\n",
              "    <path d=\"M0 0h24v24H0V0z\" fill=\"none\"/>\n",
              "    <path d=\"M18.56 5.44l.94 2.06.94-2.06 2.06-.94-2.06-.94-.94-2.06-.94 2.06-2.06.94zm-11 1L8.5 8.5l.94-2.06 2.06-.94-2.06-.94L8.5 2.5l-.94 2.06-2.06.94zm10 10l.94 2.06.94-2.06 2.06-.94-2.06-.94-.94-2.06-.94 2.06-2.06.94z\"/><path d=\"M17.41 7.96l-1.37-1.37c-.4-.4-.92-.59-1.43-.59-.52 0-1.04.2-1.43.59L10.3 9.45l-7.72 7.72c-.78.78-.78 2.05 0 2.83L4 21.41c.39.39.9.59 1.41.59.51 0 1.02-.2 1.41-.59l7.78-7.78 2.81-2.81c.8-.78.8-2.07 0-2.86zM5.41 20L4 18.59l7.72-7.72 1.47 1.35L5.41 20z\"/>\n",
              "  </svg>\n",
              "      </button>\n",
              "      \n",
              "  <style>\n",
              "    .colab-df-container {\n",
              "      display:flex;\n",
              "      flex-wrap:wrap;\n",
              "      gap: 12px;\n",
              "    }\n",
              "\n",
              "    .colab-df-convert {\n",
              "      background-color: #E8F0FE;\n",
              "      border: none;\n",
              "      border-radius: 50%;\n",
              "      cursor: pointer;\n",
              "      display: none;\n",
              "      fill: #1967D2;\n",
              "      height: 32px;\n",
              "      padding: 0 0 0 0;\n",
              "      width: 32px;\n",
              "    }\n",
              "\n",
              "    .colab-df-convert:hover {\n",
              "      background-color: #E2EBFA;\n",
              "      box-shadow: 0px 1px 2px rgba(60, 64, 67, 0.3), 0px 1px 3px 1px rgba(60, 64, 67, 0.15);\n",
              "      fill: #174EA6;\n",
              "    }\n",
              "\n",
              "    [theme=dark] .colab-df-convert {\n",
              "      background-color: #3B4455;\n",
              "      fill: #D2E3FC;\n",
              "    }\n",
              "\n",
              "    [theme=dark] .colab-df-convert:hover {\n",
              "      background-color: #434B5C;\n",
              "      box-shadow: 0px 1px 3px 1px rgba(0, 0, 0, 0.15);\n",
              "      filter: drop-shadow(0px 1px 2px rgba(0, 0, 0, 0.3));\n",
              "      fill: #FFFFFF;\n",
              "    }\n",
              "  </style>\n",
              "\n",
              "      <script>\n",
              "        const buttonEl =\n",
              "          document.querySelector('#df-632e8485-25ca-4d43-82f1-ac399c9651da button.colab-df-convert');\n",
              "        buttonEl.style.display =\n",
              "          google.colab.kernel.accessAllowed ? 'block' : 'none';\n",
              "\n",
              "        async function convertToInteractive(key) {\n",
              "          const element = document.querySelector('#df-632e8485-25ca-4d43-82f1-ac399c9651da');\n",
              "          const dataTable =\n",
              "            await google.colab.kernel.invokeFunction('convertToInteractive',\n",
              "                                                     [key], {});\n",
              "          if (!dataTable) return;\n",
              "\n",
              "          const docLinkHtml = 'Like what you see? Visit the ' +\n",
              "            '<a target=\"_blank\" href=https://colab.research.google.com/notebooks/data_table.ipynb>data table notebook</a>'\n",
              "            + ' to learn more about interactive tables.';\n",
              "          element.innerHTML = '';\n",
              "          dataTable['output_type'] = 'display_data';\n",
              "          await google.colab.output.renderOutput(dataTable, element);\n",
              "          const docLink = document.createElement('div');\n",
              "          docLink.innerHTML = docLinkHtml;\n",
              "          element.appendChild(docLink);\n",
              "        }\n",
              "      </script>\n",
              "    </div>\n",
              "  </div>\n",
              "  "
            ]
          },
          "metadata": {},
          "execution_count": 41
        }
      ]
    },
    {
      "cell_type": "code",
      "source": [
        "plt.scatter(df['Age'],df['EstimatedSalary'])"
      ],
      "metadata": {
        "colab": {
          "base_uri": "https://localhost:8080/",
          "height": 282
        },
        "id": "g32wkwpL8ODG",
        "outputId": "75edbdff-0288-4d5d-f390-748d4915ec4f"
      },
      "execution_count": 43,
      "outputs": [
        {
          "output_type": "execute_result",
          "data": {
            "text/plain": [
              "<matplotlib.collections.PathCollection at 0x7faee08faaf0>"
            ]
          },
          "metadata": {},
          "execution_count": 43
        },
        {
          "output_type": "display_data",
          "data": {
            "text/plain": [
              "<Figure size 432x288 with 1 Axes>"
            ],
            "image/png": "[encoded data removed]"
          },
          "metadata": {
            "needs_background": "light"
          }
        }
      ]
    },
    {
      "cell_type": "code",
      "source": [
        "from sklearn.model_selection import train_test_split\n",
        "X_train, X_test, y_train, y_test = train_test_split(df.drop('Purchased',axis=1),\n",
        "                                                    df['Purchased'],test_size=0.3,\n",
        "                                                    random_state=0)\n",
        "X_train.shape,X_test.shape"
      ],
      "metadata": {
        "colab": {
          "base_uri": "https://localhost:8080/"
        },
        "id": "BMlje8Xp8Zi3",
        "outputId": "02c465cc-9e24-4e43-f645-34b42363fe2d"
      },
      "execution_count": 44,
      "outputs": [
        {
          "output_type": "execute_result",
          "data": {
            "text/plain": [
              "((282, 2), (121, 2))"
            ]
          },
          "metadata": {},
          "execution_count": 44
        }
      ]
    },
    {
      "cell_type": "markdown",
      "source": [
        "## StandardScaler"
      ],
      "metadata": {
        "id": "YASSg7I_8n6c"
      }
    },
    {
      "cell_type": "code",
      "source": [
        "from sklearn.preprocessing import StandardScaler\n",
        "scaler = StandardScaler()\n",
        "# It will learn the parameter\n",
        "# Learning on the basis of train data\n",
        "scaler.fit(X_train)\n",
        "# Transforming both the data\n",
        "X_train_scaled = scaler.transform(X_train)\n",
        "X_test_scaled = scaler.transform(X_test)"
      ],
      "metadata": {
        "id": "IyJ014Xq8m3F"
      },
      "execution_count": 45,
      "outputs": []
    },
    {
      "cell_type": "code",
      "source": [
        "X_train_scaled = pd.DataFrame(X_train_scaled,columns=X_train.columns)\n",
        "X_test_scaled = pd.DataFrame(X_test_scaled,columns = X_test.columns)"
      ],
      "metadata": {
        "id": "0A254Zpj8wbp"
      },
      "execution_count": 46,
      "outputs": []
    },
    {
      "cell_type": "code",
      "source": [
        "fig, (ax1,ax2) = plt.subplots(ncols=2,figsize=(12,5))\n",
        "\n",
        "\n",
        "ax1.scatter(X_train['Age'],X_train['EstimatedSalary'])\n",
        "ax1.set_title('Before Scaling')\n",
        "ax2.scatter(X_train_scaled['Age'],X_train_scaled['EstimatedSalary'],color='red')\n",
        "ax2.set_title('After Scaling')\n",
        "plt.show()"
      ],
      "metadata": {
        "colab": {
          "base_uri": "https://localhost:8080/",
          "height": 336
        },
        "id": "u9RjhYkV85GE",
        "outputId": "73344b59-cbb5-4de2-d519-fc8d472934c1"
      },
      "execution_count": 47,
      "outputs": [
        {
          "output_type": "display_data",
          "data": {
            "text/plain": [
              "<Figure size 864x360 with 2 Axes>"
            ],
            "image/png": "[encoded data removed]"
          },
          "metadata": {
            "needs_background": "light"
          }
        }
      ]
    },
    {
      "cell_type": "markdown",
      "source": [
        "## Some of the algo on which we use StandardScaler\n",
        "\n",
        "\n",
        "### * Linear Regression   \n",
        "### * Logistic Regression\n",
        "\n",
        "### *   Support Vector Machines (SVM)\n",
        "### *   k-Nearest Neighbors (k-NN)\n",
        "\n",
        "### *   Principal Component Analysis (PCA)\n",
        "### *   Gradient Boosting and XGBoost\n",
        "\n",
        "### *   Neural Networks\n",
        "\n",
        "\n",
        "\n",
        "\n",
        "\n",
        "\n",
        "\n",
        "\n",
        "\n",
        "\n",
        "\n",
        "\n"
      ],
      "metadata": {
        "id": "adqKJLM2-T8i"
      }
    },
    {
      "cell_type": "markdown",
      "source": [
        "## Some of the algo on which we should not use StandardScaler\n",
        "\n",
        "\n",
        "\n",
        "### *   Decision Trees\n",
        "### *   Random Forests\n",
        "\n",
        "### *   Naive Bayes\n",
        "### *   K-Means Clustering\n",
        "\n",
        "\n",
        "\n"
      ],
      "metadata": {
        "id": "jH62aFy-_JAm"
      }
    }
  ]
}